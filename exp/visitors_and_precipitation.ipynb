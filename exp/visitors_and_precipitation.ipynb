{
 "cells": [
  {
   "cell_type": "markdown",
   "id": "cfae7c8a-68e3-4371-8ab6-fc7ad3bcfe77",
   "metadata": {},
   "source": [
    "# Analysis of the precipitation at the Oktoberfest and its influence on the amount of visitors"
   ]
  },
  {
   "cell_type": "markdown",
   "id": "bb6089d4-425c-4b05-96a6-094818470b92",
   "metadata": {},
   "source": [
    "## Import necessary libraries"
   ]
  },
  {
   "cell_type": "code",
   "execution_count": 1,
   "id": "50013777-5b44-4508-ae6d-4a1eff2f7c2e",
   "metadata": {},
   "outputs": [],
   "source": [
    "import matplotlib.pyplot as plt\n",
    "import pandas as pd\n",
    "import datetime\n",
    "from datetime import timedelta\n",
    "import numpy as np\n",
    "import scipy.stats\n",
    "from tueplots.constants.color import rgb\n",
    "from tueplots import bundles\n",
    "%matplotlib inline"
   ]
  },
  {
   "cell_type": "markdown",
   "id": "5a7bb1e9-a5d9-431c-8fd5-3b2d7dd0ccc9",
   "metadata": {},
   "source": [
    "## Functions"
   ]
  },
  {
   "cell_type": "code",
   "execution_count": 2,
   "id": "fd5c4d60-e1aa-4024-b2aa-37042eae1eb9",
   "metadata": {},
   "outputs": [],
   "source": [
    "'''oktoberfestday:\n",
    "        input:  string in format yearmonthday\n",
    "        output: true if oktoberfest took place that day\n",
    "'''\n",
    "def oktoberfestday(date):\n",
    "    date = str(date)\n",
    "    \n",
    "    #convert date in datetimedate\n",
    "    date = datetime.date(int(date[0:4]),int(date[4:6]),int(date[6:8]))\n",
    "\n",
    "    #compute time of oktoberfest in that year\n",
    "    year = date.year\n",
    "    posstartdate = datetime.date(year, 9, 16)\n",
    "    weekdate = posstartdate.weekday()\n",
    "    diff = 5 - weekdate\n",
    "    if (diff <= -1):\n",
    "        diff = 7 + diff\n",
    "    startdate = datetime.date(year, 9, 16+diff)\n",
    "    duration = oktoberfestdata.loc[oktoberfestdata['jahr'] == year]['dauer'].values[0]\n",
    "    enddate = startdate + timedelta(days=int(duration)-1)\n",
    "    \n",
    "    #check if date is at time of oktoberfest\n",
    "    return (startdate <= date <= enddate)\n",
    "\n",
    "\n",
    "'''getyear:\n",
    "        input:  date in format yearmontday\n",
    "        output: year as string\n",
    "'''\n",
    "def getyear(date):\n",
    "    return str(date)[0:4]\n",
    "\n",
    "\n",
    "'''corrcolor:\n",
    "        input:  oktoberfestduration\n",
    "        output: corresponding color\n",
    "'''\n",
    "def corrcolor(durations):\n",
    "    c = []\n",
    "    for duration in oktoberfestdata[\"dauer\"]:\n",
    "        if duration == 16:\n",
    "            c.append(rgb.tue_darkblue)\n",
    "        elif duration == 17:\n",
    "            c.append(rgb.tue_orange)\n",
    "        elif duration == 18:\n",
    "            c.append(rgb.tue_red)\n",
    "        else:\n",
    "            # add zeros for years, were octoberfest didn't take place\n",
    "            c.append(\"0\")\n",
    "    return c\n",
    "\n",
    "\n",
    "'''precipitationtotal_daily:\n",
    "      input:  daily precipitation in pandas dataframe\n",
    "      output: total precipitation in time of oktoberfest and duration of oktoberfest as dictionary\n",
    "'''\n",
    "def precipitationtotal_daily(daily):\n",
    "    totaldict = {}\n",
    "    for index, row in daily.iterrows():\n",
    "        year = getyear(row['MESS_DATUM'])\n",
    "        year = int(year)\n",
    "        if year in totaldict.keys():\n",
    "            totaldict[year][0] = totaldict[year][0] + row[' RSK']\n",
    "            \n",
    "        else:\n",
    "            totaldict[year] = [row[' RSK'], oktoberfestdata.loc[oktoberfestdata['jahr'] == year]['dauer'].iloc[0]]\n",
    "    return totaldict\n",
    "\n",
    "\n",
    "''' precipitationtotal_hourly:\n",
    "        input:  hourly precipitation in pandas dataframe\n",
    "        output: total precipitation in time of the oktoberfest as dictionary\n",
    "'''\n",
    "def precipitationtotal_hourly(hourly):\n",
    "    totaldict = {}\n",
    "    for index, row in hourly.iterrows():\n",
    "        year = getyear(row['MESS_DATUM'])\n",
    "        year = int(year)\n",
    "        if year in totaldict.keys():\n",
    "\n",
    "           #only use positive values \n",
    "           if row['  R1'] >= 0:\n",
    "               totaldict[year][0] = totaldict[year][0] + row['  R1']\n",
    "        else:\n",
    "            if row['  R1'] >= 0:\n",
    "                totaldict[year] = [row['  R1'], oktoberfestdata.loc[oktoberfestdata['jahr'] == year]['dauer'].iloc[0]]\n",
    "    return totaldict\n",
    "\n",
    "\n",
    "''' precipitationday_hourly:\n",
    "        input:  hourly precipitation in pandas dataframe\n",
    "        output: total precipitation in time of the oktoberfest from 10am to 10pm as dictionary\n",
    "'''\n",
    "def precipitationday_hourly(hourly):\n",
    "    totaldict = {}\n",
    "    for index, row in hourly.iterrows():\n",
    "        year = getyear(row['MESS_DATUM'])\n",
    "        year = int(year)\n",
    "\n",
    "        #only use precipitation between 10am and 10pm\n",
    "        day = int(str(row['MESS_DATUM'])[8:]) < 22 and int(str(row['MESS_DATUM'])[8:]) >= 10\n",
    "        if year in totaldict.keys() and day:\n",
    "            if row['  R1'] >= 0:\n",
    "                totaldict[year][0] = totaldict[year][0] + row['  R1']\n",
    "        elif day:\n",
    "            if row['  R1'] >= 0:\n",
    "                totaldict[year] = [row['  R1'],oktoberfestdata.loc[oktoberfestdata['jahr'] == year]['dauer'].iloc[0]]    \n",
    "    return totaldict\n",
    "\n",
    "\n",
    "''' weekendprecipitation:\n",
    "        input:  hourly precipitation in pandas dataframe\n",
    "        output: total precipitation in time of the oktoberfest on the weekends as dictionary\n",
    "'''\n",
    "def weekendprecipitation(precipdata):\n",
    "    weekenddict = {}\n",
    "    for index, row in precipdata.iterrows():\n",
    "        precipday = str(row['MESS_DATUM'])\n",
    "        date = datetime.date(int(precipday[0:4]),int(precipday[4:6]),int(precipday[6:8]))\n",
    "        year = getyear(row['MESS_DATUM'])\n",
    "        year = int(year)\n",
    "        weekday = date.weekday()\n",
    "        day = int(str(row['MESS_DATUM'])[8:]) < 22 and int(str(row['MESS_DATUM'])[8:]) >= 10\n",
    "\n",
    "        #only use precipitation on weekends\n",
    "        if ((weekday == 5) or (weekday == 6)):\n",
    "            #only use precipitation between 10am and 10pm\n",
    "            if year in weekenddict.keys() and day:\n",
    "                if row['  R1'] >= 0:\n",
    "                    weekenddict[year][0] = weekenddict[year][0] + row['  R1']\n",
    "            elif day:\n",
    "                weekenddict[year] = [row['  R1'], oktoberfestdata.loc[oktoberfestdata['jahr'] == year]['dauer'].iloc[0]]\n",
    "    return weekenddict"
   ]
  },
  {
   "cell_type": "markdown",
   "id": "56f1e10c-3a15-4a81-9562-2f9aa431f973",
   "metadata": {},
   "source": [
    "## Load data\n",
    "\n",
    "Load daily precipitation data (historical) \n",
    "(Download from: https://opendata.dwd.de/climate_environment/CDC/observations_germany/climate/daily/kl/historical/tageswerte_KL_03379_19540601_20221231_hist.zip)\n",
    "\n",
    "Load daily precipitation data  (recent) \n",
    "(Download from: https://opendata.dwd.de/climate_environment/CDC/observations_germany/climate/daily/kl/recent/tageswerte_KL_03379_akt.zip)\n",
    "\n",
    "Load hourly precipitation data (historical)   \n",
    "(Downloaded from: https://opendata.dwd.de/climate_environment/CDC/observations_germany/climate/hourly/precipitation/historical/stundenwerte_RR_03379_19970707_20221231_hist.zip)  \n",
    "\n",
    "Load hourly precipitation data (recent)\n",
    "(Downloaded from: https://opendata.dwd.de/climate_environment/CDC/observations_germany/climate/hourly/precipitation/recent/stundenwerte_RR_03379_akt.zip) \n",
    "   \n",
    "Load oktoberfest data   \n",
    "(Downloaded from: https://opendata.muenchen.de/dataset/oktoberfest/resource/e0f664cf-6dd9-4743-bd2b-81a8b18bd1d2?view_id=e619eb4d-fc3b-44cc-88ea-0086d710ee1f)   "
   ]
  },
  {
   "cell_type": "code",
   "execution_count": 3,
   "id": "918d4295-ee74-4560-9148-3aa2874d06b3",
   "metadata": {},
   "outputs": [],
   "source": [
    "'''\n",
    "For the notebook it is not necessary to read in the whole datasets. We saved the information necessary for the analysis in the files octoberfest_daily.csv \n",
    "and octoberfest_hourly.csv in the directory dat to reduce the running time.\n",
    "\n",
    "If you want to read in the original datasets the following six lines can be used.\n",
    "This is only possible if the zip files above are downloaded and unzipped. They need to be saved in the directories as shown in the paths from the reading in.\n",
    "'''\n",
    "#hourlydata = pd.read_csv(\"hourly_data/munic/produkt_rr_stunde_19970707_20221231_03379.txt\",sep=\";\")\n",
    "#hourlydata_recent = pd.read_csv(\"hourly_data/recent/produkt_rr_stunde_20220714_20240114_03379.txt\",sep=\";\")\n",
    "#hourlydata = pd.concat([hourlydata, hourlydata_recent],ignore_index=True)\n",
    "#dailydata = pd.read_csv(\"daily_data/munic/produkt_klima_tag_19540601_20221231_03379.txt\", sep=\";\")\n",
    "#dailydata_recent = pd.read_csv(\"daily_data/recent/produkt_klima_tag_20220714_20240114_03379.txt\",sep=\";\")\n",
    "#dailydata = pd.concat([dailydata,dailydata_recent],ignore_index=True)\n",
    "\n",
    "'''\n",
    "Add oktoberfestdata for 2023.\n",
    "'''\n",
    "oktoberfestdata = pd.read_csv(\"../dat/oktoberfest.csv\")\n",
    "unchanged_oktoberfestdata = pd.read_csv(\"../dat/oktoberfest.csv\")\n",
    "all_years = np.arange(oktoberfestdata['jahr'].min(),oktoberfestdata['jahr'].max()+1)\n",
    "oktoberfestdata_all_years = pd.DataFrame({'jahr':all_years})\n",
    "oktoberfestdata = pd.merge(oktoberfestdata_all_years,oktoberfestdata, on ='jahr',how='left')\n",
    "\n",
    "data2023 = pd.DataFrame({'jahr':[2023],'dauer':[18],'besucher_gesamt':[float(7.2)],'besucher_tag':[400.0]})\n",
    "changed_oktoberfestdata = pd.concat([oktoberfestdata,data2023],ignore_index=True)\n",
    "\n",
    "unchanged_data2023 = pd.DataFrame({'jahr':[2023],'dauer':[18],'besucher_gesamt':[float(7.2)],'besucher_tag':[400.0]})\n",
    "unchanged_oktoberfestdata = pd.concat([unchanged_oktoberfestdata,unchanged_data2023],ignore_index=True)"
   ]
  },
  {
   "cell_type": "markdown",
   "id": "6c88dfc0-b4d4-4890-a262-0194128c2001",
   "metadata": {},
   "source": [
    "Drop all data from the precipitation data from before 1985 and after 2019, but keep data from 2022 and 2023. Those are the years for which we have Oktoberfest visitor data. Also drop all the precipitation data from dates when the Oktoberfest didn't take place. Write the selected precipitation data to a csv file, so the whole dataset only needs to be reloaded when the data changes."
   ]
  },
  {
   "cell_type": "code",
   "execution_count": 4,
   "id": "78ff5de2-7225-400f-9316-c2b679ed7ba0",
   "metadata": {},
   "outputs": [],
   "source": [
    "'''\n",
    "Write necessary data to files an drop the rest to reduce the running time when using the same data again. \n",
    "(This is only possible if the six lines in the code cell above are also not a comment.)\n",
    "'''\n",
    "#dailydata = dailydata[((20191231 >= dailydata['MESS_DATUM']) & (dailydata['MESS_DATUM'] >= 19850101)) | ((20231231 >= dailydata['MESS_DATUM']) & (20220101 <= dailydata['MESS_DATUM']))]\n",
    "#dailydata = dailydata[dailydata['MESS_DATUM'].map(oktoberfestday)]\n",
    "#hourlydata = hourlydata[((2019123123 >= hourlydata['MESS_DATUM']) & (hourlydata['MESS_DATUM'] >= 1985010100)) | ((2023123123 >= hourlydata['MESS_DATUM']) & (2022010100 <= hourlydata['MESS_DATUM']))]\n",
    "#hourlydata = hourlydata[hourlydata['MESS_DATUM'].map(oktoberfestday)]\n",
    "#dailydata.to_csv('oktoberfest_daily.csv', index = True)\n",
    "#hourlydata.to_csv('oktoberfest_hourly.csv', index = True)\n",
    "\n",
    "'''\n",
    "Read filtered data from the files it was written to before. \n",
    "'''\n",
    "dailydata = pd.read_csv('../dat/oktoberfest_daily.csv', sep=\",\")\n",
    "hourlydata = pd.read_csv('../dat/oktoberfest_hourly.csv',sep=\",\")"
   ]
  },
  {
   "cell_type": "markdown",
   "id": "302e03e2-982d-4266-8028-e2ca5615670e",
   "metadata": {},
   "source": [
    "## Visualization of the data used in the following analysis"
   ]
  },
  {
   "cell_type": "markdown",
   "id": "c418c920-a4ea-440c-a0eb-4b59309fa3b1",
   "metadata": {},
   "source": [
    "In this step we look at the raw data to see if the values may have some obvious errors. Therefore we plot the precipitation for each day and the precipitation for each hour at the Oktoberfest."
   ]
  },
  {
   "cell_type": "code",
   "execution_count": 5,
   "id": "01eaff1a-2e23-49a5-b48b-55aad6f8884e",
   "metadata": {},
   "outputs": [
    {
     "data": {
      "text/plain": [
       "'\\nax = dailydata.plot(x=\"MESS_DATUM\",y=\" RSK\",kind=\"bar\",xlabel=\"Date\",ylabel=\"Precipitation [mm]\",rot=90,legend=False)\\npreviousdate = 1984\\nfor date, tick in enumerate(ax.get_xticklabels()):\\n    year = int(getyear(dailydata[\"MESS_DATUM\"].iloc[date]))\\n    if year == previousdate:\\n        tick.set_visible(False)\\n    previousdate = year\\nplt.show()\\n\\nax = hourlydata.plot(x=\"MESS_DATUM\",y=\"  R1\",kind=\"bar\",xlabel=\"Date\",ylabel=\"Precipitation [mm]\",rot=90,legend=False,width=4)\\npreviousdate = 1984\\nfor date, tick in enumerate(ax.get_xticklabels()):\\n    year = int(getyear(hourlydata[\"MESS_DATUM\"].iloc[date]))\\n    if year == previousdate:\\n        tick.set_visible(False)\\n    previousdate = year\\nplt.savefig(\"../fig/hourlydata_plot.pdf\")\\nplt.tight_layout()\\nplt.show()\\n'"
      ]
     },
     "execution_count": 5,
     "metadata": {},
     "output_type": "execute_result"
    }
   ],
   "source": [
    "\n",
    "'''\n",
    "ax = dailydata.plot(x=\"MESS_DATUM\",y=\" RSK\",kind=\"bar\",xlabel=\"Date\",ylabel=\"Precipitation [mm]\",rot=90,legend=False)\n",
    "previousdate = 1984\n",
    "for date, tick in enumerate(ax.get_xticklabels()):\n",
    "    year = int(getyear(dailydata[\"MESS_DATUM\"].iloc[date]))\n",
    "    if year == previousdate:\n",
    "        tick.set_visible(False)\n",
    "    previousdate = year\n",
    "plt.show()\n",
    "\n",
    "ax = hourlydata.plot(x=\"MESS_DATUM\",y=\"  R1\",kind=\"bar\",xlabel=\"Date\",ylabel=\"Precipitation [mm]\",rot=90,legend=False,width=4)\n",
    "previousdate = 1984\n",
    "for date, tick in enumerate(ax.get_xticklabels()):\n",
    "    year = int(getyear(hourlydata[\"MESS_DATUM\"].iloc[date]))\n",
    "    if year == previousdate:\n",
    "        tick.set_visible(False)\n",
    "    previousdate = year\n",
    "plt.savefig(\"../fig/hourlydata_plot.pdf\")\n",
    "plt.tight_layout()\n",
    "plt.show()\n",
    "'''\n"
   ]
  },
  {
   "cell_type": "markdown",
   "id": "80cd5610-b6ab-42af-ae42-065b75b4eb45",
   "metadata": {},
   "source": [
    "As we can see, the plot with the daily precipitation includes precipitation amounts from 0mm to over 60mm. The data seems to not include any obvious errors. This is not the case for the hourly data, because here the plot shows a range of around -1000mm to over 0mm precipitation per hour. Since negative precipitation doesn't make sense, we need to have a closer look for how many data points the precipitation value doesn't make sense. "
   ]
  },
  {
   "cell_type": "code",
   "execution_count": 6,
   "id": "f97b12da-bb6c-4e04-ac69-d1cd4bf8ee9a",
   "metadata": {
    "scrolled": true
   },
   "outputs": [],
   "source": [
    "#for index, row in hourlydata.iterrows():\n",
    "#    if row['  R1'] < 0:\n",
    "#        print(row['MESS_DATUM'])\n",
    "    "
   ]
  },
  {
   "cell_type": "markdown",
   "id": "24a6a474-32c2-4480-8ef8-f14451326998",
   "metadata": {},
   "source": [
    "We see that only on 23.09.2004 there is an error. This could be due to a measurement error. Since only one hour of all the hours at the time of the Oktoberfest has a value that can't be true we set the value from -999mm to 0mm and neglect the effect on our further analysis. We do so, because the Oktoberfest is at least 16 days long, therefore one hour with a wrong value should not have a big impact on our further analysis, since we look at a minimum of 192 hours per Oktoberfest."
   ]
  },
  {
   "cell_type": "markdown",
   "id": "f977d467-30e4-4cf2-b7a2-7337959bacf3",
   "metadata": {},
   "source": [
    "## Visualization of precipitation and visitor data\n",
    "Visualization of the total precipitation, the precipitation on each day from 10am to 10pm and the visitor numbers in the time of the Oktoberfest in the years from 1985 to 2023. Due to Covid the Oktoberfest didn't take place in 2020 and 2021 so there is no data for these years.\n",
    "\n",
    "Use the two for-loops in the code to label the heights of the bars and thereby highlight the difference between the total precipitation and  precipitation from 10am to 10pm."
   ]
  },
  {
   "cell_type": "code",
   "execution_count": 7,
   "id": "d05a9e2c-ac0a-43eb-8d0c-b8164923f9cb",
   "metadata": {},
   "outputs": [
    {
     "data": {
      "image/png": "[encoded data removed]",
      "text/plain": [
       "<Figure size 325x200.861 with 1 Axes>"
      ]
     },
     "metadata": {},
     "output_type": "display_data"
    },
    {
     "data": {
      "image/png": "[encoded data removed]",
      "text/plain": [
       "<Figure size 325x200.861 with 1 Axes>"
      ]
     },
     "metadata": {},
     "output_type": "display_data"
    },
    {
     "data": {
      "image/png": "[encoded data removed]",
      "text/plain": [
       "<Figure size 325x200.861 with 1 Axes>"
      ]
     },
     "metadata": {},
     "output_type": "display_data"
    }
   ],
   "source": [
    "#compute total precipitation in the time of the oktoberfest and plot it\n",
    "oktoberfestdata = changed_oktoberfestdata\n",
    "totalprecipitation_daily = precipitationtotal_daily(dailydata)\n",
    "keys_daily = list(totalprecipitation_daily.keys())\n",
    "values_daily = [item[0] for item in totalprecipitation_daily.values()]\n",
    "\n",
    "plt.rcParams.update(bundles.icml2022(column=\"half\", nrows=1, ncols=1, usetex=False))\n",
    "#plt.rcParams['font.family'] = 'Times New Roman'\n",
    "plt.ylabel(\"Precipitation [millimeter]\")\n",
    "plt.xlabel(\"Year\")\n",
    "#for i, label in enumerate(keys_daily):\n",
    "#    plt.text(keys_daily[i]-0.6,values_daily[i]+0.4,round(values_daily[i],2),fontsize='xx-small') \n",
    "plt.bar([key for key,val in totalprecipitation_daily.items() if val[1]==16],[val[0] for key,val in totalprecipitation_daily.items() if val[1]==16],color=rgb.tue_darkblue,label=\"16 days\")\n",
    "plt.bar([key for key,val in totalprecipitation_daily.items() if val[1]==17],[val[0] for key,val in totalprecipitation_daily.items() if val[1]==17],color=rgb.tue_orange,label=\"17 days\")\n",
    "plt.bar([key for key,val in totalprecipitation_daily.items() if val[1]==18],[val[0] for key,val in totalprecipitation_daily.items() if val[1]==18],color=rgb.tue_red,label=\"18 days\")\n",
    "plt.title(\"Total precipitation daily\")\n",
    "\n",
    "legend = plt.legend(loc='upper center',ncol=3)\n",
    "plt.show()\n",
    "\n",
    "totalprecipitationday_hourly = precipitationday_hourly(hourlydata)\n",
    "keys_hourly = list(totalprecipitationday_hourly.keys())\n",
    "values_hourly = [item[0] for item in totalprecipitationday_hourly.values()]\n",
    "plt.ylabel(\"Precipitation [millimeter]\")\n",
    "plt.xlabel(\"Year\")\n",
    "#for i, label in enumerate(keys_hourly):\n",
    "#    plt.text(keys_hourly[i]-0.6,values_hourly[i]+0.4,round(values_hourly[i],2),fontsize='xx-small') \n",
    "plt.bar([key for key,val in totalprecipitationday_hourly.items() if val[1]==16],[val[0] for key,val in totalprecipitationday_hourly.items() if val[1]==16],color=rgb.tue_darkblue,label=\"16 days\")\n",
    "plt.bar([key for key,val in totalprecipitationday_hourly.items() if val[1]==17],[val[0] for key,val in totalprecipitationday_hourly.items() if val[1]==17],color=rgb.tue_orange,label=\"17 days\")\n",
    "plt.bar([key for key,val in totalprecipitationday_hourly.items() if val[1]==18],[val[0] for key,val in totalprecipitationday_hourly.items() if val[1]==18],color=rgb.tue_red,label=\"18 days\")    \n",
    "\n",
    "legend = plt.legend(loc='upper center',ncol=3)\n",
    "plt.title(\"Total precipitation during the day (10am to 10pm)\")\n",
    "plt.show()\n",
    "\n",
    "    \n",
    "ax = oktoberfestdata.plot(x=\"jahr\",y=\"besucher_gesamt\",kind=\"bar\",color=corrcolor(\"dauer\"),ylim=(oktoberfestdata[\"besucher_gesamt\"].min()-0.1,7.5),xlabel=\"Year\",ylabel=\"Total visitors [million]\",rot=0,width=0.8)\n",
    "ax.containers[0].set_label('_nolegend')\n",
    "years = [\"1985\",\"2005\",\"2006\"]\n",
    "for bar, tick_label in zip(ax.containers[0], ax.get_xticklabels()):\n",
    "    if str(tick_label)[-6:-2] in years:\n",
    "        if str(tick_label)[-6:-2] == \"1985\":\n",
    "            bar.set_label(\"16 days\")\n",
    "        if str(tick_label)[-6:-2] == \"2005\":\n",
    "            bar.set_label(\"17 days\")\n",
    "        if str(tick_label)[-6:-2] == \"2006\":\n",
    "            bar.set_label(\"18 days\")\n",
    "\n",
    "color, duration = plt.gca().get_legend_handles_labels()\n",
    "changed = [0,1,2]\n",
    "ax.legend([color[i] for i in changed], [duration[i] for i in changed])\n",
    "\n",
    "for year, tick in enumerate(ax.get_xticklabels()):\n",
    "    if (year % 5) != 0:\n",
    "        tick.set_visible(False)\n",
    "\n",
    "plt.legend(loc='upper center',ncol=3)\n",
    "plt.savefig(\"../doc/fig/totalvisitors.pdf\")\n",
    "plt.show()\n",
    "\n",
    "dropyears = oktoberfestdata[(oktoberfestdata['jahr'] == \"2020\") | (oktoberfestdata['jahr'] == \"2021\")].index \n",
    "oktoberfestdata.drop(dropyears, inplace = True)"
   ]
  },
  {
   "cell_type": "markdown",
   "id": "30eb12df-5bc7-4e32-b2c2-e5d2c09e68eb",
   "metadata": {},
   "source": [
    "Since the hourly precipitation for Munich is only available from 1997 the plot with the precipitation at daytime has less years. Both precipitation plots show varying amounts of precipitation in each year. The plot of the amount of visitors also varies between the different years. In the following analysis the goal is to see if the precipitation has an influence on the amount of visitors. The assumption is, that less visitors come to the Oktoberfest if there is more precipitation in any particular year."
   ]
  },
  {
   "cell_type": "markdown",
   "id": "fba72b95-08e5-4b0e-9311-94813a93f4f2",
   "metadata": {},
   "source": [
    "## Is there a correlation between the amount of visitors and the amount of precipitation at the Oktoberfest?\n",
    "\n",
    "Plot the total precipitation on the x-axis and the amount of visitors on the y-axis to see if there is a correlation. We here use the mean precipitation per day and the mean visitors per day since the duration of the Oktoberfest is not always the same and we don't have daily visitor numbers.\n",
    "\n",
    "Use the for-loop in the code to label the data points in the plot with the corresponding year.\n",
    "\n",
    "The precipitation data from 1985 to 2023 is used here."
   ]
  },
  {
   "cell_type": "code",
   "execution_count": 8,
   "id": "fe9cc0e6-efee-4d5f-b367-f1fce3739fea",
   "metadata": {},
   "outputs": [
    {
     "name": "stdout",
     "output_type": "stream",
     "text": [
      "Pearson correlation coefficient for the daily mean visitors an the daily mean precipitation:\n",
      "-0.1912992689101533\n"
     ]
    },
    {
     "data": {
      "image/png": "[encoded data removed]",
      "text/plain": [
       "<Figure size 325x200.861 with 1 Axes>"
      ]
     },
     "metadata": {},
     "output_type": "display_data"
    }
   ],
   "source": [
    "ax=plt.subplot()\n",
    "oktoberfestdata = unchanged_oktoberfestdata\n",
    "#if you want to look at the precipitaion since 1997 for the duration of the oktoberfestdata use the following two line. Otherwise all the data available will be use.\n",
    "#totalprecipitation_daily = precipitationtotal_hourly(hourlydata)\n",
    "#oktoberfestdata = oktoberfestdata[(oktoberfestdata['jahr'] >= 1997)]\n",
    "\n",
    "# plots the mean precipitaion in comparison to the daily mean visitors\n",
    "plt.scatter([(val[0]/val[1]) for key,val in totalprecipitation_daily.items()],1000*oktoberfestdata['besucher_gesamt']/oktoberfestdata['dauer'],color=rgb.tue_green)\n",
    "m,b = np.polyfit([(val[0]/val[1]) for val in totalprecipitation_daily.values()], 1000*oktoberfestdata['besucher_gesamt']/oktoberfestdata['dauer'], deg=1)\n",
    "func = str(m)+\"x\"+str(b)\n",
    "plt.plot(np.arange(start=0,stop=12,step=1), m*np.arange(start=0,stop=12,step=1)+b,color=rgb.tue_green,label=\"All\")\n",
    "\n",
    "#compute the pearson correlation coefficient\n",
    "xl = [(val[0]/val[1]) for key,val in totalprecipitation_daily.items()]\n",
    "yl = [oktoberfestdata['besucher_gesamt']/oktoberfestdata['dauer']][0].to_list()\n",
    "xlnp = np.array(xl)\n",
    "ylnp = np.array(yl)\n",
    "print(\"Pearson correlation coefficient for the daily mean visitors an the daily mean precipitation:\") \n",
    "print(scipy.stats.pearsonr(xlnp,ylnp)[0])\n",
    "years = list(range(1985,2020))\n",
    "\n",
    "years.append(2022)\n",
    "years.append(2023)\n",
    "#labels dots with corresponding year\n",
    "#for i, label in enumerate(years):\n",
    "#    print(i)\n",
    "#    print(label)\n",
    "#    print(xl[i])\n",
    "#    if label == 2023:\n",
    "#        plt.text(xl[i],yl[i],label,fontsize='xx-small')\n",
    "    \n",
    "\n",
    "plt.scatter([(val[0]/16) for key,val in totalprecipitation_daily.items() if val[1] == 16], [1000*oktoberfestdata.loc[oktoberfestdata['jahr'] == key]['besucher_gesamt'].iloc[0]/16 for key,val in totalprecipitation_daily.items() if val[1] == 16], label=\"16 days\",color=rgb.tue_darkblue)\n",
    "m,b = np.polyfit([(val[0]/16) for val in totalprecipitation_daily.values() if val[1] == 16], [1000*oktoberfestdata.loc[oktoberfestdata['jahr'] == key]['besucher_gesamt'].iloc[0]/16 for key,val in totalprecipitation_daily.items() if val[1] == 16], deg=1)\n",
    "func = str(m)+\"x\"+str(b)\n",
    "#plt.plot(np.arange(start=0,stop=12,step=1), m*np.arange(start=0,stop=12,step=1)+b,color=rgb.tue_darkblue)\n",
    "\n",
    "plt.scatter([(val[0]/17) for key,val in totalprecipitation_daily.items() if val[1] == 17], [1000*oktoberfestdata.loc[oktoberfestdata['jahr'] == key]['besucher_gesamt'].iloc[0]/17 for key,val in totalprecipitation_daily.items() if val[1] == 17], label=\"17 days\",color=rgb.tue_orange)\n",
    "m,b = np.polyfit([(val[0]/17) for val in totalprecipitation_daily.values() if val[1] == 17], [1000*oktoberfestdata.loc[oktoberfestdata['jahr'] == key]['besucher_gesamt'].iloc[0]/17 for key,val in totalprecipitation_daily.items() if val[1] == 17], deg=1)\n",
    "func = str(m)+\"x\"+str(b)\n",
    "#plt.plot(np.arange(start=0,stop=12,step=1), m*np.arange(start=0,stop=12,step=1)+b,color=rgb.tue_orange)\n",
    "\n",
    "plt.scatter([(val[0]/18) for key,val in totalprecipitation_daily.items() if val[1] == 18], [1000*oktoberfestdata.loc[oktoberfestdata['jahr'] == key]['besucher_gesamt'].iloc[0]/18 for key,val in totalprecipitation_daily.items() if val[1] == 18], label=\"18 days\",color=rgb.tue_red)\n",
    "m,b = np.polyfit([(val[0]/18) for val in totalprecipitation_daily.values() if val[1] == 18], [1000*oktoberfestdata.loc[oktoberfestdata['jahr'] == key]['besucher_gesamt'].iloc[0]/18 for key,val in totalprecipitation_daily.items() if val[1] == 18], deg=1)\n",
    "func = str(m)+\"x\"+str(b)\n",
    "#plt.plot(np.arange(start=0,stop=12,step=1), m*np.arange(start=0,stop=12,step=1)+b,color=rgb.tue_red)\n",
    "ax.set_xlabel('Mean precipitation [millimeter]')\n",
    "ax.set_ylabel('Mean visitors [thousand]')\n",
    "legend = ax.legend(loc='upper right',ncol=4)\n",
    "plt.ylim(300,500)\n",
    "plt.show()"
   ]
  },
  {
   "cell_type": "markdown",
   "id": "3b8128cf-1142-4252-a738-4663c87e45ae",
   "metadata": {},
   "source": [
    "The computed Pearson correlation coefficient for the mean daily precipitation and the mean daily visitors is -0.1913. This only corresponds to a weak correlation. The minus indicates that it is a negative correlation which means that the amount of visitors decreases when the amount of precipitation increases. Contrary to our expectation, the plots show only a weak negative correlation. To rule out that the reason for that is that the daily precipitation contains precipitation outside of the opening hours of the Oktoberfest we now look at the mean precipitation against the mean visitors but only use the *hourly* precipitation data from 10am to 10pm. The precipitation at night shouldn't have an impact on the number of visitors. \n",
    "\n",
    "Here the available data begins in 1997 so we lose 12 years for the analysis."
   ]
  },
  {
   "cell_type": "code",
   "execution_count": 9,
   "id": "c73d4d9a-d67e-4a2c-be03-222172a44577",
   "metadata": {
    "scrolled": true
   },
   "outputs": [
    {
     "name": "stdout",
     "output_type": "stream",
     "text": [
      "Pearson correlation coefficient for the daily mean visitors an the daily mean precipitatio from 10am to 10pm:\n",
      "-0.22764282213539766\n"
     ]
    },
    {
     "data": {
      "image/png": "[encoded data removed]",
      "text/plain": [
       "<Figure size 325x200.861 with 1 Axes>"
      ]
     },
     "metadata": {},
     "output_type": "display_data"
    }
   ],
   "source": [
    "totalprecipitation_hourly = precipitationday_hourly(hourlydata)\n",
    "oktoberfestdata = unchanged_oktoberfestdata\n",
    "oktoberfestdata = oktoberfestdata[(oktoberfestdata['jahr'] >= 1997)]\n",
    "\n",
    "\n",
    "#compute the pearson correlation coefficient\n",
    "xl = [val[0]/val[1] for key,val in totalprecipitation_hourly.items()]\n",
    "yl = [oktoberfestdata['besucher_gesamt']/oktoberfestdata['dauer']][0].to_list()\n",
    "xlnp = np.array(xl)\n",
    "ylnp = np.array(yl)\n",
    "print(\"Pearson correlation coefficient for the daily mean visitors an the daily mean precipitatio from 10am to 10pm:\")\n",
    "print(scipy.stats.pearsonr(xlnp, ylnp)[0])\n",
    "\n",
    "ax=plt.subplot()\n",
    "#print([key for key,val in totalprecipitation.items() if val[1] == 16]\n",
    "plt.scatter([val[0]/val[1] for key,val in totalprecipitation_hourly.items()],1000*oktoberfestdata['besucher_gesamt']/oktoberfestdata['dauer'],color=rgb.tue_green)\n",
    "m,b = np.polyfit([val[0]/val[1] for val in totalprecipitation_hourly.values()], 1000*oktoberfestdata['besucher_gesamt']/oktoberfestdata['dauer'], deg=1)\n",
    "func = str(m)+\"x\"+str(b)\n",
    "plt.plot(np.arange(start=0,stop=8,step=1), m*np.arange(start=0,stop=8,step=1)+b,color=rgb.tue_green,label=\"All\")\n",
    "\n",
    "plt.scatter([val[0]/16 for key,val in totalprecipitation_hourly.items() if val[1] == 16], [oktoberfestdata.loc[oktoberfestdata['jahr'] == key]['besucher_gesamt'].iloc[0]*1000/16 for key,val in totalprecipitation_hourly.items() if val[1] == 16], label=\"16 days\",color=rgb.tue_darkblue)\n",
    "m,b = np.polyfit([val[0]/16 for val in totalprecipitation_hourly.values() if val[1] == 16], [oktoberfestdata.loc[oktoberfestdata['jahr'] == key]['besucher_gesamt'].iloc[0]*1000/16 for key,val in totalprecipitation_hourly.items() if val[1] == 16], deg=1)\n",
    "func = str(m)+\"x\"+str(b)\n",
    "#plt.plot(np.arange(start=0,stop=8,step=1), m*np.arange(start=0,stop=8,step=1)+b,color=rgb.tue_darkblue)\n",
    "\n",
    "plt.scatter([val[0]/17 for key,val in totalprecipitation_hourly.items() if val[1] == 17], [oktoberfestdata.loc[oktoberfestdata['jahr'] == key]['besucher_gesamt'].iloc[0]*1000/17 for key,val in totalprecipitation_hourly.items() if val[1] == 17], label=\"17 days\",color=rgb.tue_orange)\n",
    "m,b = np.polyfit([val[0]/17 for val in totalprecipitation_hourly.values() if val[1] == 17], [oktoberfestdata.loc[oktoberfestdata['jahr'] == key]['besucher_gesamt'].iloc[0]*1000/17 for key,val in totalprecipitation_hourly.items() if val[1] == 17], deg=1)\n",
    "func = str(m)+\"x\"+str(b)\n",
    "#plt.plot(np.arange(start=0,stop=8,step=1), m*np.arange(start=0,stop=8,step=1)+b,color=rgb.tue_orange)\n",
    "\n",
    "plt.scatter([val[0]/18 for key,val in totalprecipitation_hourly.items() if val[1] == 18], [oktoberfestdata.loc[oktoberfestdata['jahr'] == key]['besucher_gesamt'].iloc[0]*1000/18 for key,val in totalprecipitation_hourly.items() if val[1] == 18], label=\"18 days\",color=rgb.tue_red)\n",
    "m,b = np.polyfit([val[0]/18 for val in totalprecipitation_hourly.values() if val[1] == 18], [oktoberfestdata.loc[oktoberfestdata['jahr'] == key]['besucher_gesamt'].iloc[0]*1000/18 for key,val in totalprecipitation_hourly.items() if val[1] == 18], deg=1)\n",
    "func = str(m)+\"x\"+str(b)\n",
    "#plt.plot(np.arange(start=0,stop=8,step=1), m*np.arange(start=0,stop=8,step=1)+b,color=rgb.tue_red)\n",
    "\n",
    "ax.set_xlabel('Mean precipitation [millimeter]')\n",
    "ax.set_ylabel('Mean visitors [thousand]')\n",
    "legend = ax.legend(loc='upper right')\n",
    "plt.savefig(\"../doc/fig/totalprecipitation.pdf\")\n",
    "plt.show()"
   ]
  },
  {
   "cell_type": "markdown",
   "id": "bb0a060a-ac28-4619-acc8-c3a497084874",
   "metadata": {},
   "source": [
    "Even after not including the precipitation at night and in the morning, there is still only a weak correlation. One explanation for that could be that the Oktoberfest is at least 16 days long. This provides visitors with numerous alternative dates to attend the Oktoberfest in case the day they initially planned for is particularly rainy. This means that the precipitation only influences visitors that can't make it at another date. This could explain why the green line in the plot above shows only a slight decrease in visitor numbers when there is greater precipitation.\n",
    "\n",
    "The fact that the absolute value of the correlation increases from 0.1913 to 0.2276 shows that the precipitation at day has a bigger influence.\n"
   ]
  },
  {
   "cell_type": "markdown",
   "id": "21c5d319-6cb7-4556-aa09-51fb836c90f1",
   "metadata": {},
   "source": [
    "Now we have a look if there is a stronger correlation between the amount of visitors at the Oktoberfest and the precipitation if we only consider the precipitation on Saturday and Sunday. An assumption could be that more visitors come on the weekend in comparison to the rest of the week. So the precipitation on the weekend should then have a greater influence on the total number of visitors."
   ]
  },
  {
   "cell_type": "code",
   "execution_count": 10,
   "id": "62db1ddf-b0a6-4608-b4de-136370ef58d1",
   "metadata": {
    "scrolled": true
   },
   "outputs": [
    {
     "name": "stdout",
     "output_type": "stream",
     "text": [
      "Pearson correlation coefficient for the daily mean visitors an the daily mean precipitation on the weekends:\n",
      "-0.21400579832359704\n"
     ]
    },
    {
     "data": {
      "image/png": "[encoded data removed]",
      "text/plain": [
       "<Figure size 325x200.861 with 1 Axes>"
      ]
     },
     "metadata": {},
     "output_type": "display_data"
    }
   ],
   "source": [
    "oktoberfestdata = unchanged_oktoberfestdata\n",
    "oktoberfestdata = oktoberfestdata[(oktoberfestdata['jahr'] >= 1997)]\n",
    "totalprecipitation_weekend = weekendprecipitation(hourlydata)\n",
    "\n",
    "xl = [val[0]/val[1] for key,val in totalprecipitation_weekend.items()]\n",
    "yl = [oktoberfestdata['besucher_gesamt']/oktoberfestdata['dauer']][0].to_list()\n",
    "xlnp = np.array(xl)\n",
    "ylnp = np.array(yl)\n",
    "print(\"Pearson correlation coefficient for the daily mean visitors an the daily mean precipitation on the weekends:\")\n",
    "print(scipy.stats.pearsonr(xlnp, ylnp)[0])\n",
    "ax=plt.subplot()\n",
    "plt.scatter([val[0]/6 for key,val in totalprecipitation_weekend.items()],1000*oktoberfestdata['besucher_gesamt']/oktoberfestdata['dauer'],color=rgb.tue_green)\n",
    "m,b = np.polyfit([val[0]/6 for val in totalprecipitation_weekend.values()], 1000*oktoberfestdata['besucher_gesamt']/oktoberfestdata['dauer'], deg=1)\n",
    "func = str(m)+\"x\"+str(b)\n",
    "plt.plot(np.arange(start=0,stop=14,step=1), m*np.arange(start=0,stop=14,step=1)+b,color=rgb.tue_green,label=\"All\")\n",
    "\n",
    "#print([key for key,val in totalprecipitation.items() if val[1] == 16]\n",
    "plt.scatter([val[0]/6 for key,val in totalprecipitation_weekend.items() if val[1] == 16], [oktoberfestdata.loc[oktoberfestdata['jahr'] == key]['besucher_gesamt'].iloc[0]*1000/16 for key,val in totalprecipitation_weekend.items() if val[1] == 16], label=\"16 days\",color=rgb.tue_darkblue)\n",
    "m,b = np.polyfit([val[0]/6 for val in totalprecipitation_weekend.values() if val[1] == 16], [oktoberfestdata.loc[oktoberfestdata['jahr'] == key]['besucher_gesamt'].iloc[0]*1000/16 for key,val in totalprecipitation_weekend.items() if val[1] == 16], deg=1)\n",
    "func = str(m)+\"x\"+str(b)\n",
    "#plt.plot(np.arange(start=0,stop=14,step=1), m*np.arange(start=0,stop=14,step=1)+b,color=rgb.tue_darkblue)\n",
    "\n",
    "\n",
    "plt.scatter([val[0]/6 for key,val in totalprecipitation_weekend.items() if val[1] == 17], [oktoberfestdata.loc[oktoberfestdata['jahr'] == key]['besucher_gesamt'].iloc[0]*1000/17 for key,val in totalprecipitation_weekend.items() if val[1] == 17], label=\"17 days\",color=rgb.tue_orange)\n",
    "m,b = np.polyfit([val[0]/6 for val in totalprecipitation_weekend.values() if val[1] == 17], [oktoberfestdata.loc[oktoberfestdata['jahr'] == key]['besucher_gesamt'].iloc[0]*1000/17 for key,val in totalprecipitation_weekend.items() if val[1] == 17], deg=1)\n",
    "func = str(m)+\"x\"+str(b)\n",
    "#plt.plot(np.arange(start=0,stop=14,step=1), m*np.arange(start=0,stop=14,step=1)+b,color=rgb.tue_orange)\n",
    "\n",
    "plt.scatter([val[0]/6 for key,val in totalprecipitation_weekend.items() if val[1] == 18], [oktoberfestdata.loc[oktoberfestdata['jahr'] == key]['besucher_gesamt'].iloc[0]*1000/18 for key,val in totalprecipitation_weekend.items() if val[1] == 18], label=\"18 days\",color=rgb.tue_red)\n",
    "m,b = np.polyfit([val[0]/6 for val in totalprecipitation_weekend.values() if val[1] == 18], [oktoberfestdata.loc[oktoberfestdata['jahr'] == key]['besucher_gesamt'].iloc[0]*1000/18 for key,val in totalprecipitation_weekend.items() if val[1] == 18], deg=1)\n",
    "func = str(m)+\"x\"+str(b)\n",
    "#plt.plot(np.arange(start=0,stop=14,step=1), m*np.arange(start=0,stop=14,step=1)+b,color=rgb.tue_red)\n",
    "ax.set_xlabel('Mean precipitation [millimeter]')\n",
    "ax.set_ylabel('Mean visitors [thousand]')\n",
    "legend = ax.legend(loc='upper right')\n",
    "plt.show()"
   ]
  },
  {
   "cell_type": "markdown",
   "id": "42324934-7d92-4714-9c98-3ebd70d542a3",
   "metadata": {},
   "source": [
    "Using only the weekend brings no stronger correlation between the number of visitors and the amount of precipitation."
   ]
  }
 ],
 "metadata": {
  "kernelspec": {
   "display_name": "Python 3 (ipykernel)",
   "language": "python",
   "name": "python3"
  },
  "language_info": {
   "codemirror_mode": {
    "name": "ipython",
    "version": 3
   },
   "file_extension": ".py",
   "mimetype": "text/x-python",
   "name": "python",
   "nbconvert_exporter": "python",
   "pygments_lexer": "ipython3",
   "version": "3.9.13"
  }
 },
 "nbformat": 4,
 "nbformat_minor": 5
}
