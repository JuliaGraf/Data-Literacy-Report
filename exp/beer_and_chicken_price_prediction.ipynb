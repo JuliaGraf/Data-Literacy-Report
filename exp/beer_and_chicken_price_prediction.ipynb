{
 "cells": [
  {
   "cell_type": "code",
   "execution_count": 34,
   "id": "13693a07",
   "metadata": {},
   "outputs": [],
   "source": [
    "# Imports\n",
    "import warnings\n",
    "from tueplots import bundles\n",
    "from tueplots.constants.color import rgb\n",
    "warnings.filterwarnings(\"ignore\")\n",
    "import pandas as pd\n",
    "import matplotlib.pyplot as plt\n",
    "import numpy as np\n",
    "import seaborn as sns\n",
    "from sklearn.linear_model import LinearRegression\n",
    "from sklearn.preprocessing import PolynomialFeatures\n",
    "from sklearn.metrics import mean_squared_error, mean_absolute_error, r2_score\n",
    "from sklearn.model_selection import cross_validate, learning_curve, train_test_split\n",
    "from sklearn.gaussian_process import GaussianProcessRegressor\n",
    "from sklearn.preprocessing import StandardScaler\n",
    "from sklearn.model_selection import cross_val_score\n",
    "from sklearn.pipeline import make_pipeline\n",
    "from sklearn.gaussian_process import GaussianProcessRegressor\n",
    "from sklearn.gaussian_process.kernels import RBF, Matern, ExpSineSquared, RationalQuadratic, DotProduct, WhiteKernel, ConstantKernel as C"
   ]
  },
  {
   "cell_type": "code",
   "execution_count": 35,
   "id": "3dc45e7c",
   "metadata": {},
   "outputs": [],
   "source": [
    "plt.rcParams.update(bundles.icml2022(column=\"full\",nrows=1, ncols=2, usetex=False))"
   ]
  },
  {
   "cell_type": "code",
   "execution_count": 36,
   "id": "cc8baf98",
   "metadata": {},
   "outputs": [],
   "source": [
    "# Loading data\n",
    "data=pd.read_csv('../dat/oktoberfest.csv')\n",
    "\n",
    "# Translating the column names to English\n",
    "data.rename(columns=\n",
    "            {'jahr':'year','dauer':'duration [days]','besucher_gesamt':'total_visitors [million]',\n",
    "                     'besucher_tag':'visitor_day [1000]','bier_preis':'beer_price [€]',\n",
    "                     'bier_konsum':'beer_consumption [hectolitre]',\n",
    "                     'hendl_preis':'chicken_price [€]','hendl_konsum':'chicken_consumption'},\n",
    "            inplace=True)\n",
    "data.set_index(\"_id\",inplace=True)"
   ]
  },
  {
   "cell_type": "code",
   "execution_count": 37,
   "id": "fd9cfa3e",
   "metadata": {},
   "outputs": [
    {
     "data": {
      "text/html": [
       "<div>\n",
       "<style scoped>\n",
       "    .dataframe tbody tr th:only-of-type {\n",
       "        vertical-align: middle;\n",
       "    }\n",
       "\n",
       "    .dataframe tbody tr th {\n",
       "        vertical-align: top;\n",
       "    }\n",
       "\n",
       "    .dataframe thead th {\n",
       "        text-align: right;\n",
       "    }\n",
       "</style>\n",
       "<table border=\"1\" class=\"dataframe\">\n",
       "  <thead>\n",
       "    <tr style=\"text-align: right;\">\n",
       "      <th></th>\n",
       "      <th>year</th>\n",
       "      <th>duration [days]</th>\n",
       "      <th>total_visitors [million]</th>\n",
       "      <th>visitor_day [1000]</th>\n",
       "      <th>beer_price [€]</th>\n",
       "      <th>beer_consumption [hectolitre]</th>\n",
       "      <th>chicken_price [€]</th>\n",
       "      <th>chicken_consumption</th>\n",
       "    </tr>\n",
       "    <tr>\n",
       "      <th>_id</th>\n",
       "      <th></th>\n",
       "      <th></th>\n",
       "      <th></th>\n",
       "      <th></th>\n",
       "      <th></th>\n",
       "      <th></th>\n",
       "      <th></th>\n",
       "      <th></th>\n",
       "    </tr>\n",
       "  </thead>\n",
       "  <tbody>\n",
       "    <tr>\n",
       "      <th>32</th>\n",
       "      <td>2016</td>\n",
       "      <td>17</td>\n",
       "      <td>5.6</td>\n",
       "      <td>329</td>\n",
       "      <td>10.57</td>\n",
       "      <td>66231</td>\n",
       "      <td>11.00</td>\n",
       "      <td>366876</td>\n",
       "    </tr>\n",
       "    <tr>\n",
       "      <th>33</th>\n",
       "      <td>2017</td>\n",
       "      <td>18</td>\n",
       "      <td>6.2</td>\n",
       "      <td>344</td>\n",
       "      <td>10.87</td>\n",
       "      <td>77836</td>\n",
       "      <td>11.41</td>\n",
       "      <td>466747</td>\n",
       "    </tr>\n",
       "    <tr>\n",
       "      <th>34</th>\n",
       "      <td>2018</td>\n",
       "      <td>16</td>\n",
       "      <td>6.3</td>\n",
       "      <td>394</td>\n",
       "      <td>11.30</td>\n",
       "      <td>78705</td>\n",
       "      <td>11.67</td>\n",
       "      <td>436492</td>\n",
       "    </tr>\n",
       "    <tr>\n",
       "      <th>35</th>\n",
       "      <td>2019</td>\n",
       "      <td>16</td>\n",
       "      <td>6.3</td>\n",
       "      <td>394</td>\n",
       "      <td>11.71</td>\n",
       "      <td>78502</td>\n",
       "      <td>12.15</td>\n",
       "      <td>434998</td>\n",
       "    </tr>\n",
       "    <tr>\n",
       "      <th>36</th>\n",
       "      <td>2022</td>\n",
       "      <td>17</td>\n",
       "      <td>5.7</td>\n",
       "      <td>335</td>\n",
       "      <td>13.45</td>\n",
       "      <td>71340</td>\n",
       "      <td>13.96</td>\n",
       "      <td>313636</td>\n",
       "    </tr>\n",
       "  </tbody>\n",
       "</table>\n",
       "</div>"
      ],
      "text/plain": [
       "     year  duration [days]  total_visitors [million]  visitor_day [1000]  \\\n",
       "_id                                                                        \n",
       "32   2016               17                       5.6                 329   \n",
       "33   2017               18                       6.2                 344   \n",
       "34   2018               16                       6.3                 394   \n",
       "35   2019               16                       6.3                 394   \n",
       "36   2022               17                       5.7                 335   \n",
       "\n",
       "     beer_price [€]  beer_consumption [hectolitre]  chicken_price [€]  \\\n",
       "_id                                                                     \n",
       "32            10.57                          66231              11.00   \n",
       "33            10.87                          77836              11.41   \n",
       "34            11.30                          78705              11.67   \n",
       "35            11.71                          78502              12.15   \n",
       "36            13.45                          71340              13.96   \n",
       "\n",
       "     chicken_consumption  \n",
       "_id                       \n",
       "32                366876  \n",
       "33                466747  \n",
       "34                436492  \n",
       "35                434998  \n",
       "36                313636  "
      ]
     },
     "execution_count": 37,
     "metadata": {},
     "output_type": "execute_result"
    }
   ],
   "source": [
    "data.tail(5)"
   ]
  },
  {
   "cell_type": "markdown",
   "id": "35e9635d",
   "metadata": {},
   "source": [
    "We notice that there is no data available for the years : 2020, 2021. This is because the Oktoberfest had to be cancelled because of COVID-19\n"
   ]
  },
  {
   "cell_type": "code",
   "execution_count": 38,
   "id": "c1c96668",
   "metadata": {
    "scrolled": true
   },
   "outputs": [
    {
     "data": {
      "text/html": [
       "<div>\n",
       "<style scoped>\n",
       "    .dataframe tbody tr th:only-of-type {\n",
       "        vertical-align: middle;\n",
       "    }\n",
       "\n",
       "    .dataframe tbody tr th {\n",
       "        vertical-align: top;\n",
       "    }\n",
       "\n",
       "    .dataframe thead th {\n",
       "        text-align: right;\n",
       "    }\n",
       "</style>\n",
       "<table border=\"1\" class=\"dataframe\">\n",
       "  <thead>\n",
       "    <tr style=\"text-align: right;\">\n",
       "      <th></th>\n",
       "      <th>year</th>\n",
       "      <th>duration [days]</th>\n",
       "      <th>total_visitors [million]</th>\n",
       "      <th>visitor_day [1000]</th>\n",
       "      <th>beer_price [€]</th>\n",
       "      <th>beer_consumption [hectolitre]</th>\n",
       "      <th>chicken_price [€]</th>\n",
       "      <th>chicken_consumption</th>\n",
       "    </tr>\n",
       "  </thead>\n",
       "  <tbody>\n",
       "    <tr>\n",
       "      <th>count</th>\n",
       "      <td>36.000000</td>\n",
       "      <td>36.000000</td>\n",
       "      <td>36.000000</td>\n",
       "      <td>36.000000</td>\n",
       "      <td>36.000000</td>\n",
       "      <td>36.000000</td>\n",
       "      <td>36.000000</td>\n",
       "      <td>36.000000</td>\n",
       "    </tr>\n",
       "    <tr>\n",
       "      <th>mean</th>\n",
       "      <td>2002.555556</td>\n",
       "      <td>16.305556</td>\n",
       "      <td>6.297222</td>\n",
       "      <td>386.694444</td>\n",
       "      <td>7.053333</td>\n",
       "      <td>62476.611111</td>\n",
       "      <td>7.768889</td>\n",
       "      <td>564746.138889</td>\n",
       "    </tr>\n",
       "    <tr>\n",
       "      <th>std</th>\n",
       "      <td>10.635371</td>\n",
       "      <td>0.624246</td>\n",
       "      <td>0.398200</td>\n",
       "      <td>27.429723</td>\n",
       "      <td>2.770215</td>\n",
       "      <td>10196.196093</td>\n",
       "      <td>2.793060</td>\n",
       "      <td>129222.529768</td>\n",
       "    </tr>\n",
       "    <tr>\n",
       "      <th>min</th>\n",
       "      <td>1985.000000</td>\n",
       "      <td>16.000000</td>\n",
       "      <td>5.500000</td>\n",
       "      <td>329.000000</td>\n",
       "      <td>3.200000</td>\n",
       "      <td>48698.000000</td>\n",
       "      <td>3.920000</td>\n",
       "      <td>313636.000000</td>\n",
       "    </tr>\n",
       "    <tr>\n",
       "      <th>25%</th>\n",
       "      <td>1993.750000</td>\n",
       "      <td>16.000000</td>\n",
       "      <td>5.975000</td>\n",
       "      <td>369.000000</td>\n",
       "      <td>4.845000</td>\n",
       "      <td>53510.750000</td>\n",
       "      <td>5.317500</td>\n",
       "      <td>481139.250000</td>\n",
       "    </tr>\n",
       "    <tr>\n",
       "      <th>50%</th>\n",
       "      <td>2002.500000</td>\n",
       "      <td>16.000000</td>\n",
       "      <td>6.350000</td>\n",
       "      <td>394.000000</td>\n",
       "      <td>6.750000</td>\n",
       "      <td>61467.500000</td>\n",
       "      <td>8.130000</td>\n",
       "      <td>515646.000000</td>\n",
       "    </tr>\n",
       "    <tr>\n",
       "      <th>75%</th>\n",
       "      <td>2011.250000</td>\n",
       "      <td>16.000000</td>\n",
       "      <td>6.500000</td>\n",
       "      <td>406.000000</td>\n",
       "      <td>9.170000</td>\n",
       "      <td>71085.000000</td>\n",
       "      <td>9.890000</td>\n",
       "      <td>685465.750000</td>\n",
       "    </tr>\n",
       "    <tr>\n",
       "      <th>max</th>\n",
       "      <td>2022.000000</td>\n",
       "      <td>18.000000</td>\n",
       "      <td>7.100000</td>\n",
       "      <td>444.000000</td>\n",
       "      <td>13.450000</td>\n",
       "      <td>79225.000000</td>\n",
       "      <td>13.960000</td>\n",
       "      <td>807710.000000</td>\n",
       "    </tr>\n",
       "  </tbody>\n",
       "</table>\n",
       "</div>"
      ],
      "text/plain": [
       "              year  duration [days]  total_visitors [million]  \\\n",
       "count    36.000000        36.000000                 36.000000   \n",
       "mean   2002.555556        16.305556                  6.297222   \n",
       "std      10.635371         0.624246                  0.398200   \n",
       "min    1985.000000        16.000000                  5.500000   \n",
       "25%    1993.750000        16.000000                  5.975000   \n",
       "50%    2002.500000        16.000000                  6.350000   \n",
       "75%    2011.250000        16.000000                  6.500000   \n",
       "max    2022.000000        18.000000                  7.100000   \n",
       "\n",
       "       visitor_day [1000]  beer_price [€]  beer_consumption [hectolitre]  \\\n",
       "count           36.000000       36.000000                      36.000000   \n",
       "mean           386.694444        7.053333                   62476.611111   \n",
       "std             27.429723        2.770215                   10196.196093   \n",
       "min            329.000000        3.200000                   48698.000000   \n",
       "25%            369.000000        4.845000                   53510.750000   \n",
       "50%            394.000000        6.750000                   61467.500000   \n",
       "75%            406.000000        9.170000                   71085.000000   \n",
       "max            444.000000       13.450000                   79225.000000   \n",
       "\n",
       "       chicken_price [€]  chicken_consumption  \n",
       "count          36.000000            36.000000  \n",
       "mean            7.768889        564746.138889  \n",
       "std             2.793060        129222.529768  \n",
       "min             3.920000        313636.000000  \n",
       "25%             5.317500        481139.250000  \n",
       "50%             8.130000        515646.000000  \n",
       "75%             9.890000        685465.750000  \n",
       "max            13.960000        807710.000000  "
      ]
     },
     "execution_count": 38,
     "metadata": {},
     "output_type": "execute_result"
    }
   ],
   "source": [
    "# Descriptive statistics\n",
    "data.describe()"
   ]
  },
  {
   "cell_type": "markdown",
   "id": "b597efa8",
   "metadata": {},
   "source": [
    "The Oktoberfest which typically lasts for 16 days, on average attracts 6 million people every year.\n",
    "\n",
    "The price of beer which was only 3.2 euros in 1985 rose to a whopping 13.45 euros by 2022.\n",
    "\n",
    "We can observe a similar rise in price for the chicken from 3.9 euros in 1985 to 13.96 euros in 2022.\n",
    "\n",
    "On an average, 6.25 million litres of beer is consumed every year which is equivalent to having a river of beer flowing continuously for a day, filling the equivalent of nearly three Olympic-sized swimming pools. "
   ]
  },
  {
   "cell_type": "markdown",
   "id": "fec55506",
   "metadata": {},
   "source": [
    "# Plots"
   ]
  },
  {
   "cell_type": "markdown",
   "id": "b427495f",
   "metadata": {},
   "source": [
    "## Beer Price over the years"
   ]
  },
  {
   "cell_type": "code",
   "execution_count": 39,
   "id": "7f01b762",
   "metadata": {},
   "outputs": [
    {
     "data": {
      "image/png": "[encoded data removed]",
      "text/plain": [
       "<Figure size 675x208.586 with 1 Axes>"
      ]
     },
     "metadata": {},
     "output_type": "display_data"
    }
   ],
   "source": [
    "# How has the beer price changed over the years?\n",
    "\n",
    "plt.plot(data['year'],data[['beer_price [€]']],color=rgb.tue_red)\n",
    "plt.xlabel('Year')\n",
    "plt.ylabel('Beer Price [€]')\n",
    "plt.grid()\n",
    "plt.title('Beer Price over the years [1985-2022]')\n",
    "plt.show()"
   ]
  },
  {
   "cell_type": "markdown",
   "id": "e42143a6",
   "metadata": {},
   "source": [
    "The price for 1 litre of beer increased almost linearly since 1985."
   ]
  },
  {
   "cell_type": "markdown",
   "id": "f04691ba",
   "metadata": {},
   "source": [
    "## Chicken prices over the years"
   ]
  },
  {
   "cell_type": "code",
   "execution_count": 40,
   "id": "1cb59eba",
   "metadata": {},
   "outputs": [
    {
     "data": {
      "image/png": "[encoded data removed]",
      "text/plain": [
       "<Figure size 675x208.586 with 1 Axes>"
      ]
     },
     "metadata": {},
     "output_type": "display_data"
    }
   ],
   "source": [
    "# How has the chicken price changed over the years?\n",
    "\n",
    "plt.plot(data['year'],data[['chicken_price [€]']],color=rgb.tue_darkblue, marker='o')\n",
    "plt.xlabel('Year')\n",
    "plt.ylabel('Chicken Price [€]')\n",
    "plt.title('Chicken Price over the years')\n",
    "plt.grid(True)\n",
    "#plt.tight_layout()"
   ]
  },
  {
   "cell_type": "markdown",
   "id": "7f5b4507",
   "metadata": {},
   "source": [
    "There was a huge price surge in the year 2000.\n",
    "\n",
    "In the year 2013 there seems to be a price outlier as compared to the steady increase before."
   ]
  },
  {
   "cell_type": "markdown",
   "id": "ffef105b",
   "metadata": {},
   "source": [
    "# Model for Predicting Beer Price"
   ]
  },
  {
   "cell_type": "markdown",
   "id": "cbd4f7fe",
   "metadata": {},
   "source": [
    "Year: 2023\n",
    "\n",
    "Duration (days): 18\n",
    "\n",
    "Total visitors (in million): 7.2\n",
    "\n",
    "Visitor day(in 1000): Total_visitors (in million)/Duration (days): 400\n",
    "\n",
    "Beer price(per litre): 14.33\n",
    "\n",
    "Beer consumption(per hectolitre): 65000\n",
    "\n",
    "Chicken price(1/2 chicken): 16.49\n",
    "\n",
    "Chicken Consumption: 488000\n"
   ]
  },
  {
   "cell_type": "markdown",
   "id": "420519f8",
   "metadata": {},
   "source": [
    "Additional visitor and consumption data for 2023 was retrieved from: \n",
    "\n",
    "https://www.muenchen.de/veranstaltungen/oktoberfest/aktuell/wiesn-2023-das-ist-die-abschlussbilanz\n",
    "\n",
    "The beer price for 2023 was calculated as the average across the \"Festhallen\" from this table: \n",
    "\n",
    "https://stadt.muenchen.de/dam/jcr:2117b3fe-760c-4a9d-8123-38fe54bf49e4/ge-trraenke-wiesn23.pdf. This matches with the way data for previous years was recorded (From the Oktoberfest dataset description: \"Die durchschnittlichen Bierpreise für 1 Maß Bier (1 Liter) in den Festzelten auf dem Oktoberfest (Preise in Euro)\")\n",
    "\n",
    "The chicken price for 2023 was calculated as an average across \"Festhallen\" retrieved from:\n",
    "\n",
    "https://oktoberfest-guide.com/tents/menus-food-drinks/\n",
    "\n"
   ]
  },
  {
   "cell_type": "markdown",
   "id": "f104de8b",
   "metadata": {},
   "source": [
    "## Exploring Linear Regression model"
   ]
  },
  {
   "cell_type": "code",
   "execution_count": 41,
   "id": "40b091cd",
   "metadata": {},
   "outputs": [],
   "source": [
    "# Training data\n",
    "X_beer = data.drop(columns=['beer_price [€]'])\n",
    "y_beer = data['beer_price [€]']"
   ]
  },
  {
   "cell_type": "code",
   "execution_count": 42,
   "id": "9bc4531b",
   "metadata": {},
   "outputs": [
    {
     "name": "stdout",
     "output_type": "stream",
     "text": [
      "Predicted Beer Price for 2023: 14.29\n"
     ]
    }
   ],
   "source": [
    "# Your code that produces warnings\n",
    "\n",
    "# Oktoberfest data for the year 2023\n",
    "X_test = [[2023, 18, 7.2, 400, 65000, 16.49, 488000]]\n",
    "\n",
    "# Create a polynomial regression model\n",
    "degree = 1\n",
    "polyreg = make_pipeline(PolynomialFeatures(degree), LinearRegression())\n",
    "\n",
    "# Fit the model \n",
    "polyreg.fit(X_beer, y_beer)\n",
    "\n",
    "# Predict beer price for the test data\n",
    "y_pred = polyreg.predict(X_test)\n",
    "print(f'Predicted Beer Price for 2023: {y_pred[0]:.2f}')"
   ]
  },
  {
   "cell_type": "markdown",
   "id": "834466d8",
   "metadata": {},
   "source": [
    "We observe that the beer price(per litre) predicted by the linear regression model for 2023 is close to the ground truth value."
   ]
  },
  {
   "cell_type": "markdown",
   "id": "317717ab",
   "metadata": {},
   "source": [
    "Next, we aim to assess whether increasing the polynomial degree contributes to a more optimal fit."
   ]
  },
  {
   "cell_type": "code",
   "execution_count": 43,
   "id": "451ba6d2",
   "metadata": {},
   "outputs": [
    {
     "data": {
      "image/png": "[encoded data removed]",
      "text/plain": [
       "<Figure size 675x208.586 with 1 Axes>"
      ]
     },
     "metadata": {},
     "output_type": "display_data"
    },
    {
     "name": "stdout",
     "output_type": "stream",
     "text": [
      "Best Polynomial Degree: 1\n"
     ]
    }
   ],
   "source": [
    "# To find the optimal number of degrees\n",
    "degrees = np.arange(1, 11)\n",
    "\n",
    "cv_scores = []\n",
    "\n",
    "for degree in degrees:\n",
    "    poly_features = PolynomialFeatures(degree=degree)\n",
    "    X_poly = poly_features.fit_transform(X_beer)\n",
    "\n",
    "    model = LinearRegression()\n",
    "    cv_score = np.mean(cross_val_score(model, X_poly, y_beer, cv=5, scoring='r2'))\n",
    "    cv_scores.append(cv_score)\n",
    "\n",
    "# Plot the cross-validation scores for each degree\n",
    "plt.plot(degrees, cv_scores, marker='o',color=rgb.tue_red)\n",
    "plt.title('Cross-validation Scores for Polynomial Regression')\n",
    "plt.xlabel('Polynomial Degree')\n",
    "plt.ylabel('$R^2$ Score')\n",
    "plt.grid(True)\n",
    "plt.show()\n",
    "\n",
    "# Determine the degree with the highest cross-validation score\n",
    "best_degree = degrees[np.argmax(cv_scores)]\n",
    "print(f\"Best Polynomial Degree: {best_degree}\")\n",
    "\n",
    "# Fit the final model with the best degree\n",
    "poly_features = PolynomialFeatures(degree=best_degree)\n",
    "X_poly = poly_features.fit_transform(X_beer)\n",
    "\n",
    "final_model = LinearRegression()\n",
    "final_model.fit(X_poly, y_beer)\n",
    "\n",
    "# Plot the regression curve\n",
    "x_range = np.linspace(X_beer.min().min(), X_beer.max().max(), 100).reshape(-1, 1)\n",
    "x_range_poly = poly_features.transform(X_beer)\n",
    "y_pred = final_model.predict(x_range_poly)\n"
   ]
  },
  {
   "cell_type": "markdown",
   "id": "4360f2e9",
   "metadata": {},
   "source": [
    "## Exploring Gaussian Process Regression model"
   ]
  },
  {
   "cell_type": "code",
   "execution_count": 44,
   "id": "dfebcd66",
   "metadata": {},
   "outputs": [
    {
     "name": "stdout",
     "output_type": "stream",
     "text": [
      "Kernel Type: 1**2 * DotProduct(sigma_0=1)\n",
      "Predicted beer price for 2023: 10.16947570971362 ± 1.0140573056753335\n",
      "\n",
      "Error with kernel 1**2 * DotProduct(sigma_0=1) ** 2: (\"The kernel, 1**2 * DotProduct(sigma_0=1) ** 2, is not returning a positive definite matrix. Try gradually increasing the 'alpha' parameter of your GaussianProcessRegressor estimator.\", '14-th leading minor of the array is not positive definite')\n",
      "Kernel Type: 1**2 * RBF(length_scale=1) * DotProduct(sigma_0=1)\n",
      "Predicted beer price for 2023: 6.628571428571428 ± 40619.06797242386\n",
      "\n",
      "Kernel Type: 1**2 * RBF(length_scale=1) + DotProduct(sigma_0=1)\n",
      "Predicted beer price for 2023: 13.132722495155566 ± 2.521046009603744\n",
      "\n"
     ]
    }
   ],
   "source": [
    "# Split the data into training and testing sets\n",
    "X_train, X_test, y_train, y_test = train_test_split(X_beer, y_beer, test_size=0.2, random_state=42)\n",
    "\n",
    "# List of kernels to explore\n",
    "kernels_to_explore = [\n",
    "    C(1.0, (1e-3, 1e3)) * DotProduct(sigma_0=1.0), \n",
    "    C(1.0, (1e-3, 1e3)) * DotProduct(sigma_0=1.0) ** 2,\n",
    "    C(1.0, (1e-3, 1e3)) * RBF(length_scale=1.0, length_scale_bounds=(1e-2, 1e2)) * DotProduct(sigma_0=1.0),\n",
    "    C(1.0, (1e-3, 1e3)) * RBF(length_scale=1.0, length_scale_bounds=(1e-2, 1e2)) + DotProduct(sigma_0=1.0),\n",
    "\n",
    "]\n",
    "\n",
    "# Fit and evaluate models for each kernel\n",
    "for kernel in kernels_to_explore:\n",
    "    try:\n",
    "        gpr_beer = GaussianProcessRegressor(kernel=kernel, n_restarts_optimizer=50, alpha=0.1, normalize_y=True)\n",
    "        # Fit the model\n",
    "        gpr_beer.fit(X_train, y_train)\n",
    "\n",
    "        # 2023 data\n",
    "        X_test = np.array([[2023, 18, 7.2, 400, 65000, 16.49, 488000]])\n",
    "\n",
    "        # Predict mean and standard deviation of the GP at test points\n",
    "        beer_price_pred, beer_price_std = gpr_beer.predict(X_test, return_std=True)\n",
    "\n",
    "        # Print the kernel type and predicted mean and standard deviation of beer price\n",
    "        print(f'Kernel Type: {str(kernel)}')\n",
    "        print(f'Predicted beer price for 2023: {beer_price_pred[0]} ± {beer_price_std[0]}\\n')\n",
    "\n",
    "    except Exception as e:\n",
    "        print(f\"Error with kernel {str(kernel)}: {e}\")\n"
   ]
  },
  {
   "cell_type": "markdown",
   "id": "c5dcd6b8",
   "metadata": {},
   "source": [
    "Using Kernel Type: 1**2 * RBF(length_scale=1) + DotProduct(sigma_0=1): \n",
    "\n",
    "The projected beer price for 2023 is estimated to be 13.13, with an uncertainty range of approximately ± 2.52."
   ]
  },
  {
   "cell_type": "code",
   "execution_count": 45,
   "id": "76c2d656",
   "metadata": {},
   "outputs": [],
   "source": [
    "plt.rcParams.update(bundles.icml2022(column=\"half\",nrows=1, ncols=1, usetex=False))"
   ]
  },
  {
   "cell_type": "code",
   "execution_count": 46,
   "id": "0f4c4046",
   "metadata": {},
   "outputs": [
    {
     "data": {
      "image/png": "[encoded data removed]",
      "text/plain": [
       "<Figure size 325x200.861 with 1 Axes>"
      ]
     },
     "metadata": {},
     "output_type": "display_data"
    }
   ],
   "source": [
    "# Generate predictions for all years\n",
    "beer_price_all_pred, _ = gpr_beer.predict(X_beer, return_std=True)\n",
    "\n",
    "# Plotting beer price\n",
    "plt.plot(data['year'], data['beer_price [€]'], 'r.', markersize=6, label='Actual',color=rgb.tue_orange)\n",
    "plt.plot(data['year'], beer_price_all_pred, 'b-', label='Predicted',color=rgb.tue_darkblue)\n",
    "plt.errorbar(X_test[0][0], beer_price_pred,color=rgb.tue_darkblue, yerr=beer_price_std,fmt='.',markersize=6, label='2023 prediction with uncertainty')\n",
    "plt.xlabel('Year')\n",
    "plt.ylabel('Beer price [€]')\n",
    "plt.legend()\n",
    "\n",
    "#plt.title('Beer Price Prediction using Gaussian Process Regression')\n",
    "plt.savefig('../doc/fig/gaussian_beer_price_pred.pdf')\n",
    "plt.show()\n"
   ]
  },
  {
   "cell_type": "markdown",
   "id": "61253c4e",
   "metadata": {},
   "source": [
    "Since the beer prices predominantly exhibit a linear relationship, for simplicity,  interpretability, and computational efficiency, the linear regression model would be a pragmatic choice."
   ]
  },
  {
   "cell_type": "markdown",
   "id": "d531922c",
   "metadata": {},
   "source": [
    "# Model for Predicting Chicken Price"
   ]
  },
  {
   "cell_type": "markdown",
   "id": "09476a01",
   "metadata": {},
   "source": [
    "## Exploring Linear Regression model"
   ]
  },
  {
   "cell_type": "code",
   "execution_count": 47,
   "id": "dd165691",
   "metadata": {},
   "outputs": [],
   "source": [
    "# Oktoberfest data for the year 2023\n",
    "X_chicken_test = [[2023, 18, 7.2, 400, 14.33, 65000, 488000]]\n",
    "chicken_price= 16.49 "
   ]
  },
  {
   "cell_type": "code",
   "execution_count": 48,
   "id": "9a8b8472",
   "metadata": {},
   "outputs": [],
   "source": [
    "# Training data\n",
    "X_chicken = data.drop(columns=['chicken_price [€]'])\n",
    "y_chicken = data['chicken_price [€]']"
   ]
  },
  {
   "cell_type": "code",
   "execution_count": 49,
   "id": "40657f5a",
   "metadata": {},
   "outputs": [
    {
     "name": "stdout",
     "output_type": "stream",
     "text": [
      "Predicted Chicken Price for 2023: 13.82\n"
     ]
    }
   ],
   "source": [
    "# Create a polynomial regression model\n",
    "degree = 1\n",
    "polyreg = make_pipeline(PolynomialFeatures(degree), LinearRegression())\n",
    "\n",
    "# Fit the model \n",
    "polyreg.fit(X_chicken, y_chicken)\n",
    "\n",
    "# Predict beer price for the test data\n",
    "y_chicken_pred = polyreg.predict(X_chicken_test)\n",
    "print(f'Predicted Chicken Price for 2023: {y_chicken_pred[0]:.2f}')"
   ]
  },
  {
   "cell_type": "code",
   "execution_count": 50,
   "id": "87429b79",
   "metadata": {
    "scrolled": true
   },
   "outputs": [
    {
     "data": {
      "image/png": "[encoded data removed]",
      "text/plain": [
       "<Figure size 325x200.861 with 1 Axes>"
      ]
     },
     "metadata": {},
     "output_type": "display_data"
    },
    {
     "name": "stdout",
     "output_type": "stream",
     "text": [
      "Best Polynomial Degree: 1\n"
     ]
    }
   ],
   "source": [
    "# To find the optimal number of degrees\n",
    "degrees = np.arange(1, 11)\n",
    "\n",
    "cv_scores = []\n",
    "\n",
    "for degree in degrees:\n",
    "    poly_features = PolynomialFeatures(degree=degree)\n",
    "    X_poly = poly_features.fit_transform(X_chicken)\n",
    "\n",
    "    model = LinearRegression()\n",
    "    cv_score = np.mean(cross_val_score(model, X_poly, y_chicken, cv=5, scoring='r2'))\n",
    "    cv_scores.append(cv_score)\n",
    "\n",
    "# Plot the cross-validation scores for each degree\n",
    "plt.plot(degrees, cv_scores, marker='o',color=rgb.tue_darkblue)\n",
    "plt.title('Cross-validation Scores for Polynomial Regression')\n",
    "plt.xlabel('Polynomial Degree')\n",
    "plt.ylabel('R-squared Score')\n",
    "plt.grid(True)\n",
    "plt.show()\n",
    "\n",
    "# Determine the degree with the highest cross-validation score\n",
    "best_degree = degrees[np.argmax(cv_scores)]\n",
    "print(f\"Best Polynomial Degree: {best_degree}\")\n",
    "\n",
    "# Fit the final model with the best degree\n",
    "poly_features = PolynomialFeatures(degree=best_degree)\n",
    "X_poly = poly_features.fit_transform(X_chicken)\n",
    "\n",
    "final_model = LinearRegression()\n",
    "final_model.fit(X_poly, y_chicken)\n",
    "\n",
    "# Plot the regression curve\n",
    "x_range = np.linspace(X_chicken.min().min(), X_chicken.max().max(), 100).reshape(-1, 1)\n",
    "x_range_poly = poly_features.transform(X_chicken)\n",
    "y_chicken_pred = final_model.predict(x_range_poly)\n"
   ]
  },
  {
   "cell_type": "markdown",
   "id": "edb7030e",
   "metadata": {},
   "source": [
    "We observe that the Linear Regression model produces a significantly different result from the ground truth value."
   ]
  },
  {
   "cell_type": "markdown",
   "id": "2baecb1f",
   "metadata": {},
   "source": [
    "## Exploring Gaussian Process Regression"
   ]
  },
  {
   "cell_type": "code",
   "execution_count": 51,
   "id": "d6e071b7",
   "metadata": {
    "scrolled": true
   },
   "outputs": [
    {
     "name": "stdout",
     "output_type": "stream",
     "text": [
      "Kernel Type: 1**2 * DotProduct(sigma_0=1)\n",
      "Predicted chicken price for 2023: 9.771109753945728 ± 0.8627626770595581\n",
      "\n",
      "Error with kernel 1**2 * DotProduct(sigma_0=1) ** 2: (\"The kernel, 1**2 * DotProduct(sigma_0=1) ** 2, is not returning a positive definite matrix. Try gradually increasing the 'alpha' parameter of your GaussianProcessRegressor estimator.\", '15-th leading minor of the array is not positive definite')\n",
      "Kernel Type: 1**2 * RBF(length_scale=1) * DotProduct(sigma_0=1)\n",
      "Predicted chicken price for 2023: 7.385714285714286 ± 41059.57254137133\n",
      "\n",
      "Kernel Type: 1**2 * RBF(length_scale=1) + DotProduct(sigma_0=1)\n",
      "Predicted chicken price for 2023: 13.0847905745883 ± 1.9586201549692297\n",
      "\n"
     ]
    }
   ],
   "source": [
    "# Split the data into training and testing sets\n",
    "X_train, X_test, y_train, y_test = train_test_split(X_chicken, y_chicken, test_size=0.2, random_state=42)\n",
    "\n",
    "# List of kernels to explore\n",
    "kernels_to_explore = [\n",
    "    C(1.0, (1e-3, 1e3)) * DotProduct(sigma_0=1.0), \n",
    "    C(1.0, (1e-3, 1e3)) * DotProduct(sigma_0=1.0) ** 2,\n",
    "    C(1.0, (1e-3, 1e3)) * RBF(length_scale=1.0, length_scale_bounds=(1e-2, 1e2)) * DotProduct(sigma_0=1.0),\n",
    "    C(1.0, (1e-3, 1e3)) * RBF(length_scale=1.0, length_scale_bounds=(1e-2, 1e2)) + DotProduct(sigma_0=1.0),\n",
    "\n",
    "]\n",
    "\n",
    "# Fit and evaluate models for each kernel\n",
    "for kernel in kernels_to_explore:\n",
    "    try:\n",
    "        gpr_chicken = GaussianProcessRegressor(kernel=kernel, n_restarts_optimizer=50, alpha=0.1, normalize_y=True)\n",
    "        # Fit the model\n",
    "        gpr_chicken.fit(X_train, y_train)\n",
    "\n",
    "        # 2023 data\n",
    "        X_chicken_test = [[2023, 18, 7.2, 400, 14.33, 65000, 488000]]\n",
    "\n",
    "        # Predict mean and standard deviation of the GP at test points\n",
    "        chicken_price_pred, chicken_price_std = gpr_chicken.predict(X_chicken_test, return_std=True)\n",
    "\n",
    "        # Print the kernel type and predicted mean and standard deviation of beer price\n",
    "        print(f'Kernel Type: {str(kernel)}')\n",
    "        print(f'Predicted chicken price for 2023: {chicken_price_pred[0]} ± {chicken_price_std[0]}\\n')\n",
    "\n",
    "    except Exception as e:\n",
    "        print(f\"Error with kernel {str(kernel)}: {e}\")\n"
   ]
  },
  {
   "cell_type": "markdown",
   "id": "abce5455",
   "metadata": {},
   "source": [
    "Using Kernel Type: 1**2 * RBF(length_scale=1) + DotProduct(sigma_0=1): \n",
    "\n",
    "The projected chicken price for 2023 is estimated to be 13.08, with an uncertainty range of approximately ± 1.96."
   ]
  },
  {
   "cell_type": "code",
   "execution_count": 52,
   "id": "137963ba",
   "metadata": {},
   "outputs": [
    {
     "data": {
      "image/png": "[encoded data removed]",
      "text/plain": [
       "<Figure size 325x200.861 with 1 Axes>"
      ]
     },
     "metadata": {},
     "output_type": "display_data"
    }
   ],
   "source": [
    "# Generate predictions for all years\n",
    "chicken_price_all_pred, _ = gpr_chicken.predict(X_chicken, return_std=True)\n",
    "\n",
    "# Plotting beer price\n",
    "plt.plot(data['year'], data['chicken_price [€]'], 'r.', markersize=6, label='Actual',color=rgb.tue_darkblue)\n",
    "plt.plot(data['year'], chicken_price_all_pred, 'b-', label='Predicted',color=rgb.tue_red)\n",
    "plt.errorbar(X_chicken_test[0][0], chicken_price_pred, yerr=chicken_price_std, fmt='.', color=rgb.tue_red, markersize=6, label='2023 prediction with uncertainty')\n",
    "plt.xlabel('Year')\n",
    "plt.ylabel('Chicken price [€]')\n",
    "plt.legend()\n",
    "plt.title('Chicken Price Prediction using Gaussian Process Regression')\n",
    "plt.show()"
   ]
  },
  {
   "cell_type": "markdown",
   "id": "360033e4",
   "metadata": {},
   "source": [
    "In the context of the non-linear trend in chicken prices, the Gaussian Process Regression predicts a projected chicken price of 13.08 for the year 2023, with an associated uncertainty range of approximately ± 1.96. This estimate appears to be more plausible.\n",
    "\n",
    "However, based on the outcomes derived from both models, it is evident that neither of them demonstrates satisfactory performance. This could be attributed to an anomalous spike in prices around the year 2000."
   ]
  }
 ],
 "metadata": {
  "kernelspec": {
   "display_name": "Python 3 (ipykernel)",
   "language": "python",
   "name": "python3"
  },
  "language_info": {
   "codemirror_mode": {
    "name": "ipython",
    "version": 3
   },
   "file_extension": ".py",
   "mimetype": "text/x-python",
   "name": "python",
   "nbconvert_exporter": "python",
   "pygments_lexer": "ipython3",
   "version": "3.9.13"
  },
  "toc": {
   "base_numbering": 1,
   "nav_menu": {},
   "number_sections": true,
   "sideBar": true,
   "skip_h1_title": false,
   "title_cell": "Table of Contents",
   "title_sidebar": "Contents",
   "toc_cell": false,
   "toc_position": {},
   "toc_section_display": true,
   "toc_window_display": false
  }
 },
 "nbformat": 4,
 "nbformat_minor": 5
}
